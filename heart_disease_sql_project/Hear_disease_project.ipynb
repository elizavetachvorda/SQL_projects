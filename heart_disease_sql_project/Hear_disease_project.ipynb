{
 "cells": [
  {
   "cell_type": "markdown",
   "id": "a56e5571-5aca-4ffe-943e-bb059c61d8a8",
   "metadata": {},
   "source": [
    "# Exploratory Data Analysis of Heart Disease and Demographic Trends\n",
    "\n",
    "Heart disease stands as a significant contributor to mortality in both men and women. In this data analysis project, I delve into the heart disease dataset to identify common features among distinct demographic groups, aiming to predict and prevent the development of heart disease. The dataset used for this analysis can be found [here](https://www.kaggle.com/datasets/johnsmith88/heart-disease-dataset/data).\n",
    "\n",
    "## Project Objective\n",
    "The primary objective is to define potential factors contributing to the development of heart disease, laying the groundwork for predictive and preventive measures.\n",
    "\n",
    "## Understanding the Data\n",
    "To kick off the analysis, I conducted an exploration of the dataset, ensuring data cleanliness where necessary. The dataset comprises 14 attributes, each providing valuable insights into the patient's health profile:\n",
    "\n",
    "- **Age (age):** Patient’s age in years.\n",
    "- **Gender (sex):** Patient’s gender. (M = Male, F = Female)\n",
    "- **Chest Pain Type (cp):** Chest pain type. (Values: ATA, NAP, ASY, TA)\n",
    "- **Resting Blood Pressure (trestbps):** Resting blood pressure in mm Hg.\n",
    "- **Serum Cholesterol (chol):** Serum cholesterol in mg/dl.\n",
    "- **Fasting Blood Sugar (fbs):** Fasting blood sugar > 120 mg/dl. (0 = True, 1 = False)\n",
    "- **Resting Electroencephalographic Result (restecg):** Resting electroencephalographic result. (Values: Normal, ST, LVH)\n",
    "- **Maximum Heart Rate (thalach):** Maximum heart rate achieved.\n",
    "- **Exercise-Induced Angina (exang):** Exercise-induced angina. (N = No, Y = Yes)\n",
    "- **ST Depression (oldpeak):** ST depression induced by exercise relative to rest.\n",
    "- **Slope of the ST Segment (slope):** Slope of the peak exercise ST segment. (Values: Up, Flat, Down)\n",
    "- **Number of Major Vessels (ca):** Number of major vessels (0-3) colored by fluoroscopy.\n",
    "- **Thalassemia (thal):** Thalassemia type. (0 = normal; 1 = fixed defect; 2 = reversible defect)\n",
    "- **Heart Disease Occurrence (target):** Presence of heart disease. (0 = No, 1 = Yes)\n",
    "\n",
    "This comprehensive exploration sets the stage for a detailed analysis of the dataset, uncovering patterns and relationships within the data.\n"
   ]
  },
  {
   "cell_type": "code",
   "execution_count": null,
   "id": "c0b50bae-09a7-45d2-8565-5636db87efe5",
   "metadata": {},
   "outputs": [],
   "source": [
    "-- Table preview\n",
    "SELECT *\n",
    "FROM heart_disease\n",
    "LIMIT 10;"
   ]
  },
  {
   "cell_type": "markdown",
   "id": "961b934b-2930-40bf-a9aa-1b639b4d1be9",
   "metadata": {},
   "source": [
    "| age | sex | cp | trestbps | chol | fbs | restecg | thalach | exang | oldpeak | slope | ca | thal | target |\n",
    "|-----|-----|----|----------|------|-----|---------|---------|-------|---------|-------|----|------|--------|\n",
    "| 52  | 1   | 0  | 125      | 212  | 0   | 1       | 168     | 0     | 1       | 2     | 2  | 3    | 0      |\n",
    "| 53  | 1   | 0  | 140      | 203  | 1   | 0       | 155     | 1     | 3.1     | 0     | 0  | 3    | 0      |\n",
    "| 70  | 1   | 0  | 145      | 174  | 0   | 1       | 125     | 1     | 2.6     | 0     | 0  | 3    | 0      |\n",
    "| 61  | 1   | 0  | 148      | 203  | 0   | 1       | 161     | 0     | 0       | 2     | 1  | 3    | 0      |\n",
    "| 62  | 0   | 0  | 138      | 294  | 1   | 1       | 106     | 0     | 1.9     | 1     | 3  | 2    | 0      |\n",
    "| 58  | 0   | 0  | 100      | 248  | 0   | 0       | 122     | 0     | 1       | 1     | 0  | 2    | 1      |\n",
    "| 58  | 1   | 0  | 114      | 318  | 0   | 2       | 140     | 0     | 4.4     | 0     | 3  | 1    | 0      |\n",
    "| 55  | 1   | 0  | 160      | 289  | 0   | 0       | 145     | 1     | 0.8     | 1     | 1  | 3    | 0      |\n",
    "| 46  | 1   | 0  | 120      | 249  | 0   | 0       | 144     | 0     | 0.8     | 2     | 0  | 3    | 0      |\n",
    "| 54  | 1   | 0  | 122      | 286  | 0   | 0       | 116     | 1     | 3.2     | 1     | 2  | 2    | 0      |\n"
   ]
  },
  {
   "cell_type": "markdown",
   "id": "a326baf8-ce9d-42d0-b5b9-a7c27d0deb55",
   "metadata": {},
   "source": [
    "## Data cleaning\n",
    "In the initial state of the dataset, the columns were ***represented with abbreviations***, making them difficult to interpret. Additionally, all values were encoded as numbers. Despite the absence of missing values in the table, the dataset's readability and interpretability were compromised. To address this, a comprehensive data cleaning process was conducted, involving changes to column names and the **replacement of numeric values with descriptive labels**, thus enhancing the overall clarity of the dataset."
   ]
  },
  {
   "cell_type": "code",
   "execution_count": 2,
   "id": "71b19a8e-3ae3-4e77-85d8-05086c37e6a9",
   "metadata": {},
   "outputs": [
    {
     "ename": "SyntaxError",
     "evalue": "invalid syntax (3877150330.py, line 1)",
     "output_type": "error",
     "traceback": [
      "\u001b[0;36m  Cell \u001b[0;32mIn[2], line 1\u001b[0;36m\u001b[0m\n\u001b[0;31m    ```sql -- Replaced 1 with \"male\" and 0 with \"female\" in the \"sex\" column.\u001b[0m\n\u001b[0m    ^\u001b[0m\n\u001b[0;31mSyntaxError\u001b[0m\u001b[0;31m:\u001b[0m invalid syntax\n"
     ]
    }
   ],
   "source": [
    "-- -- Replaced 1 with \"male\" and 0 with \"female\" in the \"sex\" column.\n",
    "-- Step 1: Add a temporary column\n",
    "ALTER TABLE heart_disease\n",
    "ADD COLUMN sex_temp VARCHAR;\n",
    "\n",
    "-- Step 2: Update the temporary column\n",
    "UPDATE heart_disease\n",
    "SET sex_temp = CASE\n",
    "    WHEN sex = 1 THEN 'male'\n",
    "    ELSE 'female'\n",
    "END;\n",
    "\n",
    "-- Step 3: Drop the original column\n",
    "ALTER TABLE heart_disease\n",
    "DROP COLUMN sex_temp;\n",
    "\n",
    "-- Step 4: Rename the temporary column\n",
    "ALTER TABLE heart_disease\n",
    "RENAME COLUMN sex_temp TO sex;\n",
    "\n",
    "-- -- Changed the data type of the \"chest_pain_type\" column from integer to string and replaced values 1, 2, 3, 4 with 'TA', 'ATA', 'NAP', 'ASY' in the same column.\n",
    "-- Step 1: Add a temporary column\n",
    "ALTER TABLE heart_disease\n",
    "ADD COLUMN chest_pain_temp VARCHAR;\n",
    "\n",
    "-- Step 2: Update the temporary column\n",
    "UPDATE heart_disease\n",
    "SET chest_pain_type = CASE\n",
    "    WHEN chest_pain_type = 0 THEN 'TA'\n",
    "    WHEN chest_pain_type = 1 THEN 'ATA'\n",
    "    WHEN chest_pain_type = 2 THEN 'NAP'\n",
    "    WHEN chest_pain_type = 3 THEN 'ASY'\n",
    "    ELSE chest_pain_type::VARCHAR\n",
    "END;\n",
    "-- Step 3: Drop the original column\n",
    "ALTER TABLE heart_disease\n",
    "DROP COLUMN chest_pain_type;\n",
    "\n",
    "-- Step 4: Rename the temporary column\n",
    "ALTER TABLE heart_disease\n",
    "RENAME COLUMN chest_pain_temp TO chest_pain_type;\n",
    "\n",
    "-- -- Next I changed the data type of the \"resting_ecg\" column from integer to string and replaced the values 0, 1, 2 with their corresponding labels: \"Normal,\" \"ST,\" \"LVH\"\n",
    "-- Step 1: Add a temporary column\n",
    "ALTER TABLE heart_disease\n",
    "ADD COLUMN resting_ecg_temp VARCHAR;\n",
    "\n",
    "-- Step 2: Update the temporary column\n",
    "UPDATE heart_disease\n",
    "SET resting_ecg_temp = CASE\n",
    "    WHEN resting_ecg = 0 THEN 'Normal'\n",
    "    WHEN resting_ecg = 1 THEN 'ST'\n",
    "    WHEN resting_ecg = 2 THEN 'LVH'\n",
    "    ELSE resting_ecg::VARCHAR\n",
    "END;\n",
    "\n",
    "-- Step 3: Drop the original column\n",
    "ALTER TABLE heart_disease\n",
    "DROP COLUMN resting_ecg;\n",
    "\n",
    "-- Step 4: Rename the temporary column\n",
    "ALTER TABLE heart_disease\n",
    "RENAME COLUMN resting_ecg_temp TO resting_ecg;\n",
    "\n",
    "-- -- Changed the data type of the \"slope\" column from integer to string and replaced the values 0, 1, 2 with their corresponding labels: \"Up\" (upsloping), \"Flat\" (flat), \"Down\" (downsloping)\n",
    "-- Step 1: Add a temporary column\n",
    "ALTER TABLE heart_disease\n",
    "ADD COLUMN slope_temp VARCHAR;\n",
    "\n",
    "-- Step 2: Update the temporary column\n",
    "UPDATE heart_disease\n",
    "SET slope_temp = CASE\n",
    "    WHEN slope = 0 THEN 'Up'\n",
    "    WHEN slope = 1 THEN 'Flat'\n",
    "    WHEN slope = 2 THEN 'Down'\n",
    "    ELSE slope::VARCHAR\n",
    "END;\n",
    "\n",
    "-- Step 3: Drop the original column\n",
    "ALTER TABLE heart_disease\n",
    "DROP COLUMN slope;\n",
    "\n",
    "-- Step 4: Rename the temporary column\n",
    "ALTER TABLE heart_disease\n",
    "RENAME COLUMN slope_temp TO st_slope;\n",
    "\n",
    "-- -- Changed the data type of the \"thal\" (thalassemia) column from integer to string and replace the values 1, 2, 3 with their corresponding labels: 1 = 'normal'; 2 = 'fixed defect'; 3 = 'reversable defect'\n",
    "-- Step 1: Add a temporary column\n",
    "ALTER TABLE heart_disease\n",
    "ADD COLUMN thal_temp VARCHAR;\n",
    "\n",
    "-- Step 2: Update the temporary column\n",
    "UPDATE heart_disease\n",
    "SET thal_temp = CASE\n",
    "    WHEN thal = 1 THEN 'normal'\n",
    "    WHEN thal = 2 THEN 'fixed defect'\n",
    "    WHEN thal = 3 THEN 'reversible defect'\n",
    "    ELSE thal::VARCHAR\n",
    "END;\n",
    "\n",
    "-- Step 3: Drop the original column\n",
    "ALTER TABLE heart_disease\n",
    "DROP COLUMN thal;\n",
    "\n",
    "-- Step 4: Rename the temporary column\n",
    "ALTER TABLE heart_disease\n",
    "RENAME COLUMN thal_temp TO thal;"
   ]
  },
  {
   "cell_type": "code",
   "execution_count": null,
   "id": "3ba79da2-4de0-42b6-b64c-347a51a1a1e6",
   "metadata": {},
   "outputs": [],
   "source": [
    "-- Overview of Heart Disease Dataset\n",
    "SELECT *\n",
    "FROM heart_disease\n",
    "LIMIT 10;"
   ]
  },
  {
   "cell_type": "markdown",
   "id": "7d3aff54-c21e-4297-a6db-0295da4d81e1",
   "metadata": {},
   "source": [
    "| age | resting_blood_pressure | cholesterol | fasting_blood_sugar | max_heart_rate | exercise_angina | oldpeak | n_major_vessels | target | sex    | chest_pain_type | resting_ecg | st_slope | thal            |\n",
    "|-----|------------------------|-------------|----------------------|-----------------|------------------|---------|-----------------|--------|--------|------------------|-------------|----------|-----------------|\n",
    "| 53  | 130                    | 197         | 1                    | 152             | 0                | 1.2     | 0               | 1      | \"male\" | \"NAP\"            | \"Normal\"    | \"Up\"     | \"fixed defect\"  |\n",
    "| 42  | 136                    | 315         | 0                    | 125             | 1                | 1.8     | 0               | 0      | \"male\" | \"TA\"             | \"ST\"        | \"Flat\"   | \"normal\"        |\n",
    "| 37  | 120                    | 215         | 0                    | 170             | 0                | 0       | 0               | 1      | \"female\" | \"NAP\"           | \"ST\"        | \"Down\"   | \"fixed defect\"  |\n",
    "| 62  | 160                    | 164         | 0                    | 145             | 0                | 6.2     | 3               | 0      | \"female\" | \"TA\"            | \"Normal\"    | \"Up\"     | \"reversible defect\" |\n",
    "| 59  | 170                    | 326         | 0                    | 140             | 1                | 3.4     | 0               | 0      | \"male\" | \"TA\"            | \"Normal\"    | \"Up\"     | \"reversible defect\" |\n",
    "| 61  | 140                    | 207         | 0                    | 138             | 1                | 1.9     | 1               | 0      | \"male\" | \"TA\"            | \"Normal\"    | \"Down\"   | \"reversible defect\" |\n",
    "| 56  | 125                    | 249         | 1                    | 144             | 1                | 1.2     | 1               | 0      | \"male\" | \"TA\"            | \"Normal\"    | \"Flat\"   | \"fixed defect\"  |\n",
    "| 59  | 140                    | 177         | 0                    | 162             | 1                | 0       | 1               | 0      | \"male\" | \"TA\"            | \"ST\"        | \"Down\"   | \"reversible defect\" |\n",
    "| 48  | 130                    | 256         | 1                    | 150             | 1                | 0       | 2               | 0      | \"male\" | \"TA\"            | \"Normal\"    | \"Down\"   | \"reversible defect\" |\n",
    "| 47  | 138                    | 257         | 0                    | 156             | 0                | 0       | 0               | 1      | \"male\" | \"NAP\"           | \"Normal\"    | \"Down\"   | \"fixed defect\"  |\n"
   ]
  },
  {
   "cell_type": "markdown",
   "id": "06c9d715-1a49-4d02-bb9d-2cb25f025626",
   "metadata": {},
   "source": [
    "## Exploratory Data Analysis\n",
    "I provided Exploratory Data Analysis in order to investigate and learn the data variables within our dataset."
   ]
  },
  {
   "cell_type": "markdown",
   "id": "03c1f0ae-6853-49cb-96ca-f82d039d0cf4",
   "metadata": {},
   "source": [
    "### 1. Investigated the distribution of ages and gender in the dataset:"
   ]
  },
  {
   "cell_type": "code",
   "execution_count": null,
   "id": "54d6f690-941f-47b9-b833-8bd67663e082",
   "metadata": {},
   "outputs": [],
   "source": [
    "SELECT\n",
    "    AVG(age) AS avg_age,\n",
    "    MIN(age) AS min_age,\n",
    "    MAX(age) AS max_age,\n",
    "    COUNT(*) AS total_records,\n",
    "\t(SUM(CASE WHEN sex = 'male' THEN 1 ELSE 0 END) * 100.0 / COUNT(*)) AS male_percentage,\n",
    "    (SUM(CASE WHEN sex = 'female' THEN 1 ELSE 0 END) * 100.0 / COUNT(*)) AS female_percentage\n",
    "FROM heart_disease;"
   ]
  },
  {
   "cell_type": "markdown",
   "id": "5cb3d4f1-1e1f-4d74-92e0-01da4afe3806",
   "metadata": {},
   "source": [
    "| avg_age | min_age | max_age | total_records | male_percentage | female_percentage |\n",
    "|---------|---------|---------|---------------|------------------|-------------------|\n",
    "| 54.43   | 29      | 77      | 1025          | 69.56%           | 30.44%            |\n"
   ]
  },
  {
   "cell_type": "markdown",
   "id": "615b4877-6205-482c-84a5-9479be8f04b7",
   "metadata": {},
   "source": [
    "As a result we see that the dataset captures a diverse age group, providing a broad representation of individuals (from a minimum of 29 years to a maximum of 77 years) with average age of individuals is approximately 54.43 years. The dataset exhibits a gender distribution with a higher percentage of males."
   ]
  },
  {
   "cell_type": "markdown",
   "id": "023da8f1-aee1-4962-912d-7e34e680855d",
   "metadata": {},
   "source": [
    "### 2. Provided the Chest Pain Analysis in order to investigate trends in chest pain types based on age or gender"
   ]
  },
  {
   "cell_type": "code",
   "execution_count": null,
   "id": "f3882f0b-9404-405c-b95a-295e40485535",
   "metadata": {},
   "outputs": [],
   "source": [
    "SELECT chest_pain_type, COUNT(*) AS count\n",
    "FROM heart_disease\n",
    "GROUP BY chest_pain_type;"
   ]
  },
  {
   "cell_type": "markdown",
   "id": "0fc308bd-4885-41c0-8a62-431782da6660",
   "metadata": {},
   "source": [
    "| chest_pain_type | count |\n",
    "|-----------------|-------|\n",
    "| \"TA\"            | 497   |\n",
    "| \"NAP\"           | 284   |\n",
    "| \"ATA\"           | 167   |\n",
    "| \"ASY\"           | 77    |\n"
   ]
  },
  {
   "cell_type": "markdown",
   "id": "faa3698c-bef7-4fa3-a272-7e1e8ce8b9aa",
   "metadata": {},
   "source": [
    "TA\" appears to be the most common type, while \"ASY\" is less frequent."
   ]
  },
  {
   "cell_type": "markdown",
   "id": "dd472742-4996-43df-9f1b-8a4064269e4b",
   "metadata": {},
   "source": [
    "#### Chest Pain Trends Based on Age"
   ]
  },
  {
   "cell_type": "code",
   "execution_count": null,
   "id": "a4e0c178-49ac-42e8-8970-7a44144c17db",
   "metadata": {},
   "outputs": [],
   "source": [
    "SELECT\n",
    "    CASE\n",
    "        WHEN age < 31 THEN '<31' \n",
    "        WHEN age BETWEEN 31 AND 40 THEN '31-40'\n",
    "        WHEN age BETWEEN 41 AND 50 THEN '41-50'\n",
    "        WHEN age BETWEEN 51 AND 60 THEN '51-60'\n",
    "        WHEN age BETWEEN 61 AND 70 THEN '61-70'\n",
    "        ELSE '70+' \n",
    "    END AS age_group,\n",
    "    chest_pain_type,\n",
    "    COUNT(*) AS pain_type_count\n",
    "FROM heart_disease\n",
    "GROUP BY age_group, chest_pain_type\n",
    "ORDER BY age_group, COUNT(*) DESC;"
   ]
  },
  {
   "cell_type": "markdown",
   "id": "8ca34d93-641d-415c-a283-046938d3eff0",
   "metadata": {},
   "source": [
    "| age_group | chest_pain_type | pain_type_count |\n",
    "|-----------|-----------------|------------------|\n",
    "| \"<31\"     | \"ATA\"           | 4                |\n",
    "| \"31-40\"   | \"NAP\"           | 24               |\n",
    "| \"31-40\"   | \"TA\"            | 23               |\n",
    "| \"31-40\"   | \"ASY\"           | 10               |\n",
    "| \"31-40\"   | \"ATA\"           | 7                |\n",
    "| \"41-50\"   | \"TA\"            | 95               |\n",
    "| \"41-50\"   | \"NAP\"           | 81               |\n",
    "| \"41-50\"   | \"ATA\"           | 65               |\n",
    "| \"41-50\"   | \"ASY\"           | 6                |\n",
    "| \"51-60\"   | \"TA\"            | 225              |\n",
    "| \"51-60\"   | \"NAP\"           | 110              |\n",
    "| \"51-60\"   | \"ATA\"           | 69               |\n",
    "| \"51-60\"   | \"ASY\"           | 34               |\n",
    "| \"61-70\"   | \"TA\"            | 147              |\n",
    "| \"61-70\"   | \"NAP\"           | 62               |\n",
    "| \"61-70\"   | \"ASY\"           | 27               |\n",
    "| \"61-70\"   | \"ATA\"           | 16               |\n",
    "| \"70+\"     | \"NAP\"           | 7                |\n",
    "| \"70+\"     | \"TA\"            | 7                |\n",
    "| \"70+\"     | \"ATA\"           | 6                |\n"
   ]
  },
  {
   "cell_type": "markdown",
   "id": "767f11a3-b862-4bea-aeda-ffe591f51a92",
   "metadata": {},
   "source": [
    "The prevalence of chest pain type 'TA' shows an increasing trend with age groups. In patients aged 31-40, both 'NAP' and 'TA' chest pain are prevalent, with 24 and 23 occurrences, respectively. Notably, in the age group corresponding to the mean age (51-60), 'TA' is significantly more frequent with 225 occurrences compared to 'NAP' with 62 occurrences."
   ]
  },
  {
   "cell_type": "markdown",
   "id": "ccb484d7-c0aa-49e6-a028-4a217715e1c6",
   "metadata": {},
   "source": [
    "#### Chest Pain Trends Based on Gender"
   ]
  },
  {
   "cell_type": "code",
   "execution_count": null,
   "id": "7ca24d6d-b5f1-4ec4-97fe-30b972372684",
   "metadata": {},
   "outputs": [],
   "source": [
    "SELECT\n",
    "    sex,\n",
    "    chest_pain_type,\n",
    "    COUNT(*) AS pain_type_count,\n",
    "\t(COUNT(*) * 100.0 / (SELECT COUNT(*) FROM heart_disease)) AS percentage\n",
    "FROM heart_disease\n",
    "GROUP BY sex, chest_pain_type\n",
    "ORDER BY sex, COUNT(*) DESC;"
   ]
  },
  {
   "cell_type": "markdown",
   "id": "110780cf-40c0-4264-8260-32332a0e9f66",
   "metadata": {},
   "source": [
    "| sex    | chest_pain_type | pain_type_count | percentage |\n",
    "|--------|------------------|------------------|------------|\n",
    "| female | \"TA\"             | 133              | 12.98%     |\n",
    "| female | \"NAP\"            | 109              | 10.63%     |\n",
    "| female | \"ATA\"            | 57               | 5.56%      |\n",
    "| female | \"ASY\"            | 13               | 1.27%      |\n",
    "| male   | \"TA\"             | 364              | 35.51%     |\n",
    "| male   | \"NAP\"            | 175              | 17.07%     |\n",
    "| male   | \"ATA\"            | 110              | 10.73%     |\n",
    "| male   | \"ASY\"            | 64               | 6.24%      |\n"
   ]
  },
  {
   "cell_type": "markdown",
   "id": "c7a88ced-83c2-44a3-9413-7c1e932e33c0",
   "metadata": {},
   "source": [
    "The distribution of chest pain types varies between genders. For females, the most prevalent chest pain type is 'TA' with 133 occurrences (12.98%), followed by 'NAP' with 109 occurrences (10.63%). 'ATA' and 'ASY' chest pain types are less common among females, with 57 (5.56%) and 13 (1.27%) occurrences, respectively.\n",
    "\n",
    "In contrast, males exhibit a different pattern. 'TA' remains the dominant chest pain type with 364 occurrences (35.51%), followed by 'NAP' with 175 occurrences (17.07%). 'ATA' and 'ASY' chest pain types are also present among males, with 110 (10.73%) and 64 (6.24%) occurrences, respectively.\n",
    "\n",
    "This analysis highlights notable gender-specific differences in the distribution of chest pain types, with 'TA' being more prevalent in males compared to females."
   ]
  },
  {
   "cell_type": "markdown",
   "id": "d413c4a6-9c5e-4c9c-a6d8-5336949ac058",
   "metadata": {},
   "source": [
    "### 3. Examined Cardiovascular Risk Factors\n",
    "#### Investigated the distribution of resting blood pressure, serum cholesterol, and maximum heart rate achieved"
   ]
  },
  {
   "cell_type": "code",
   "execution_count": null,
   "id": "acd19aad-d7b3-44a1-aedd-15354a5e98f8",
   "metadata": {},
   "outputs": [],
   "source": [
    "SELECT\n",
    "    AVG(resting_blood_pressure) AS avg_blood_pressure,\n",
    "    AVG(cholesterol) AS avg_cholesterol,\n",
    "    AVG(max_heart_rate) AS avg_heart_rate\n",
    "FROM heart_disease;"
   ]
  },
  {
   "cell_type": "markdown",
   "id": "a44454cb-b985-4c88-afb5-b8614bfbc65e",
   "metadata": {},
   "source": [
    "| avg_blood_pressure | avg_cholesterol | avg_heart_rate |\n",
    "|--------------------|-----------------|-----------------|\n",
    "| 131.61             | 246.00          | 149.11          |\n"
   ]
  },
  {
   "cell_type": "markdown",
   "id": "da5c44f8-0989-4f28-8d6e-c537b24767ab",
   "metadata": {},
   "source": [
    "The average resting blood pressure among individuals in the dataset is 131.61 mm Hg, the average serum cholesterol level is 246.00 mg/dl, and the average maximum heart rate achieved is 149.11 beats per minute. These metrics provide insights into the overall cardiovascular health of the individuals represented in the dataset, with the average values serving as key indicators for further analysis and interpretation"
   ]
  },
  {
   "cell_type": "markdown",
   "id": "38017bb3-4963-48ae-aaae-2777c514b977",
   "metadata": {},
   "source": [
    "### 4. Fasting Blood Sugar and ECG Results:\n",
    "#### Analyzed the prevalence of fasting blood sugar > 120 mg/dl, where 0 = True, 1 = False"
   ]
  },
  {
   "cell_type": "code",
   "execution_count": null,
   "id": "465cc7a3-50fb-47e7-be62-1662290717a3",
   "metadata": {},
   "outputs": [],
   "source": [
    "SELECT fasting_blood_sugar, COUNT(*) AS count,\n",
    "(COUNT(*) * 100.0 / (SELECT COUNT(*) FROM heart_disease)) AS percentage\n",
    "FROM heart_disease\n",
    "GROUP BY fasting_blood_sugar;"
   ]
  },
  {
   "cell_type": "markdown",
   "id": "5541c644-ee49-49a4-bf18-430b468c9d25",
   "metadata": {},
   "source": [
    "| fasting_blood_sugar | count | percentage |\n",
    "|----------------------|-------|------------|\n",
    "| 0                    | 872   | 85.07%     |\n",
    "| 1                    | 153   | 14.93%     |\n"
   ]
  },
  {
   "cell_type": "markdown",
   "id": "7dd2e3b3-ed81-4194-9a89-a4c7f1d91d49",
   "metadata": {},
   "source": [
    "The majority of individuals in the dataset, constituting 85.07%, have fasting blood sugar levels below or equal to 120 mg/dl (coded as 0). A smaller portion, representing 14.93% of the dataset, has fasting blood sugar levels above 120 mg/dl (coded as 1). This distribution provides insights into the prevalence of elevated fasting blood sugar levels within the studied population and is a crucial factor to consider when examining potential relationships with other cardiovascular risk factors."
   ]
  },
  {
   "cell_type": "markdown",
   "id": "c02cbe8a-99ec-4bf0-ac30-03bce92e384b",
   "metadata": {},
   "source": [
    "#### Explored the distribution of resting electrocardiographic results with the prevalence of fasting blood sugar"
   ]
  },
  {
   "cell_type": "code",
   "execution_count": null,
   "id": "26cc1289-662f-4260-b4e4-fa190abdfa1c",
   "metadata": {},
   "outputs": [],
   "source": [
    "SELECT\n",
    "    resting_ecg,\n",
    "\tAVG(CASE WHEN fasting_blood_sugar = 1 THEN 1 ELSE 0 END)*100 AS fasting_blood_sugar_percentage,\n",
    "    COUNT(*) AS ecg_result_count\n",
    "FROM heart_disease\n",
    "GROUP BY resting_ecg\n",
    "ORDER BY 3 DESC;"
   ]
  },
  {
   "cell_type": "markdown",
   "id": "0a4aa78d-56c1-4bf1-aa35-58f5842e14ec",
   "metadata": {},
   "source": [
    "| resting_ecg | fasting_blood_sugar_percentage | ecg_result_count |\n",
    "|-------------|---------------------------------|------------------|\n",
    "| \"ST\"        | 11.89%                          | 513              |\n",
    "| \"Normal\"    | 18.51%                          | 497              |\n",
    "| \"LVH\"       | 0.00%                           | 15               |\n"
   ]
  },
  {
   "cell_type": "markdown",
   "id": "d0ef51fb-c253-4f16-9e37-ed7c64fbd7fc",
   "metadata": {},
   "source": [
    "The dataset reveals varying patterns in resting electrocardiographic (ECG) results among individuals. The most prevalent ECG result is 'Normal,' accounting for 18.51% of the dataset. 'ST' (ST-T wave abnormality) is the second most common result, occurring in 11.89% of the cases. Notably, there are no instances of 'LVH' (left ventricular hypertrophy) in this dataset. Understanding the distribution of ECG results is essential for assessing cardiac health and identifying potential risk factors associated with different ECG patterns."
   ]
  },
  {
   "cell_type": "markdown",
   "id": "a062b7e5-3937-4cf7-86aa-89cd6e2cbbdd",
   "metadata": {},
   "source": [
    "### 4. Exercise-Related Insights:\n",
    "#### Investigated the occurrence of exercise-induced angina"
   ]
  },
  {
   "cell_type": "code",
   "execution_count": null,
   "id": "c20087dc-fe95-40e7-89d6-8a071d59c1d0",
   "metadata": {},
   "outputs": [],
   "source": [
    "SELECT\n",
    "    AVG(CASE WHEN exercise_angina = 1 THEN 1 ELSE 0 END)*100 AS angina_percentage,\n",
    "    AVG(oldpeak) AS avg_st_depression\n",
    "FROM heart_disease;"
   ]
  },
  {
   "cell_type": "markdown",
   "id": "420cd38e-cf43-42fe-830d-cd287a166983",
   "metadata": {},
   "source": [
    "| angina_percentage | avg_st_depression |\n",
    "|-------------------|-------------------|\n",
    "| 33.66%            | 1.07              |\n"
   ]
  },
  {
   "cell_type": "markdown",
   "id": "30cf9c70-bea1-417e-8205-a12ba9927676",
   "metadata": {},
   "source": [
    "The dataset indicates that approximately 33.66% of individuals experienced exercise-induced angina. Additionally, the average ST depression induced by exercise relative to rest (oldpeak) is 1.07. These findings provide valuable insights into the prevalence of exercise-related symptoms and the associated magnitude of ST depression. "
   ]
  },
  {
   "cell_type": "markdown",
   "id": "5381d09b-2d7f-40f9-bec8-8bc0371e867b",
   "metadata": {},
   "source": [
    "### 5. Heart Disease Severity Indicators: examined the distribution of the slope of the peak exercise ST segment:"
   ]
  },
  {
   "cell_type": "code",
   "execution_count": null,
   "id": "7cf44976-27fe-4609-9c7f-ad51980a4bcb",
   "metadata": {},
   "outputs": [],
   "source": [
    "SELECT\n",
    "    st_slope,\n",
    "    COUNT(*) AS st_slope_count,\n",
    "\t(COUNT(*) * 100.0 / (SELECT COUNT(*) FROM heart_disease)) AS percentage\n",
    "FROM heart_disease\n",
    "GROUP BY st_slope;"
   ]
  },
  {
   "cell_type": "markdown",
   "id": "c22c3209-f79c-426f-a0e1-b85d025fc871",
   "metadata": {},
   "source": [
    "| st_slope | st_slope_count | percentage |\n",
    "|----------|----------------|------------|\n",
    "| \"Flat\"   | 482            | 47.02%     |\n",
    "| \"Up\"     | 74             | 7.22%      |\n",
    "| \"Down\"   | 469            | 45.76%     |\n"
   ]
  },
  {
   "cell_type": "markdown",
   "id": "31b84470-e2c4-41e2-b84a-34c91c66a749",
   "metadata": {},
   "source": [
    "The distribution of the slope of the peak exercise ST segment reveals interesting patterns. The majority of individuals (47.02%) exhibit a 'Flat' slope, while 45.76% have a 'Down' slope. In contrast, a smaller percentage (7.22%) demonstrate an 'Up' slope. "
   ]
  },
  {
   "cell_type": "markdown",
   "id": "f16bbd20-1db3-4531-9420-f872b34ac079",
   "metadata": {},
   "source": [
    "#### Analyzed the number of major vessels colored by fluoroscopy"
   ]
  },
  {
   "cell_type": "code",
   "execution_count": null,
   "id": "8676eaf9-bb92-41c1-89ba-4a3db670c7cc",
   "metadata": {},
   "outputs": [],
   "source": [
    "SELECT n_major_vessels, COUNT(*) AS total\n",
    "FROM heart_disease\n",
    "GROUP BY n_major_vessels\n",
    "ORDER BY 1;"
   ]
  },
  {
   "cell_type": "markdown",
   "id": "219659d9-f337-457c-a802-62d7fcf40a8c",
   "metadata": {},
   "source": [
    "| n_major_vessels | total |\n",
    "|-----------------|-------|\n",
    "| 0               | 578   |\n",
    "| 1               | 226   |\n",
    "| 2               | 134   |\n",
    "| 3               | 69    |\n",
    "| 4               | 18    |\n"
   ]
  },
  {
   "cell_type": "markdown",
   "id": "6eda82d7-a511-4da9-88b8-bcec1b02ae31",
   "metadata": {},
   "source": [
    "The analysis of the number of major vessels colored by fluoroscopy indicates varying prevalence. The majority of individuals (578) have 0 major vessels colored, followed by 226 individuals with 1 vessel, 134 with 2 vessels, and 69 with 3 vessels. Interestingly, there are 18 cases where 4 vessels are colored. "
   ]
  },
  {
   "cell_type": "markdown",
   "id": "7e0193f6-038a-4d0d-ac79-d2c7d678afe9",
   "metadata": {},
   "source": [
    "### 6. Thalassemia Analysis: explored the distribution of thalassemia types (normal, fixed defect, reversible defect)"
   ]
  },
  {
   "cell_type": "code",
   "execution_count": null,
   "id": "3bf047dd-7658-4c84-91de-d951f6e1538d",
   "metadata": {},
   "outputs": [],
   "source": [
    "SELECT\n",
    "    thal,\n",
    "    COUNT(*) AS thal_count\n",
    "FROM heart_disease\n",
    "GROUP BY thal;"
   ]
  },
  {
   "cell_type": "markdown",
   "id": "c303e8ed-a461-48a4-a96b-f9e5c57a3d10",
   "metadata": {},
   "source": [
    "| thal               | thal_count |\n",
    "|--------------------|------------|\n",
    "| \"fixed defect\"     | 544        |\n",
    "| \"reversible defect\"| 410        |\n",
    "| \"normal\"           | 71         |\n"
   ]
  },
  {
   "cell_type": "markdown",
   "id": "2e377939-466b-43bb-93cf-1d7514a8ca65",
   "metadata": {},
   "source": [
    "The analysis of thalassemia types reveals the distribution of cases among distinct categories. The most prevalent type is 'fixed defect' with 544 occurrences, followed by 'reversible defect' with 410 cases. Notably, there are 71 cases categorized as 'normal'. "
   ]
  },
  {
   "cell_type": "markdown",
   "id": "f23cb372-0958-48e1-8d76-35901ee94c9c",
   "metadata": {},
   "source": [
    "## Comprehensive Conclusion\n",
    "\n",
    "### Demographic Insights:\n",
    "- The dataset comprises a diverse age range, with the average age being 54.43 years.\n",
    "- Gender distribution shows a higher percentage of males (69.56%) compared to females (30.44%).\n",
    "\n",
    "### Chest Pain Analysis:\n",
    "- Chest pain types vary among different age groups. Notably, the prevalence of 'TA' chest pain increases with age and it's the most prominent in the group 51-60 years old.\n",
    "- Detailed breakdowns of chest pain types based on age groups and gender provide valuable insights into potential correlations.\n",
    "\n",
    "### Cardiovascular Risk Factors:\n",
    "- Average resting blood pressure is 131.61 mm Hg, average serum cholesterol is 246.00 mg/dl, and the average maximum heart rate achieved is 149.11.\n",
    "- The majority of the population has fasting blood sugar levels below 120 mg/dl (85.07%).\n",
    "\n",
    "### Resting Electrocardiographic Results:\n",
    "- The most common electrocardiographic result is 'Normal' (18.51%), followed by 'ST' elevation (11.89%).\n",
    "\n",
    "### Exercise-Related Insights:\n",
    "- Approximately 33.66% of the population experiences exercise-induced angina.\n",
    "- The average ST depression induced by exercise relative to rest is 1.07.\n",
    "\n",
    "### Heart Disease Severity Indicators:\n",
    "- The distribution of the slope of the peak exercise ST segment shows a significant proportion with a 'Flat' slope (47.02%).\n",
    "\n",
    "### Number of Major Vessels and Thalassemia Types:\n",
    "- The majority of individuals have 0 or 1 major vessels colored by fluoroscopy.\n",
    "- 'Fixed defect' is the most common thalassemia type, followed by 'Reversible defect' and 'Normal.'\n",
    "\n",
    "This comprehensive analysis provides a foundation for further investigation and modeling to predict and prevent heart disease. The insights gained contribute to a better understanding of the dataset and highlight potential areas for focused research and intervention.\n"
   ]
  }
 ],
 "metadata": {
  "kernelspec": {
   "display_name": "Python 3 (ipykernel)",
   "language": "python",
   "name": "python3"
  },
  "language_info": {
   "codemirror_mode": {
    "name": "ipython",
    "version": 3
   },
   "file_extension": ".py",
   "mimetype": "text/x-python",
   "name": "python",
   "nbconvert_exporter": "python",
   "pygments_lexer": "ipython3",
   "version": "3.11.5"
  }
 },
 "nbformat": 4,
 "nbformat_minor": 5
}
