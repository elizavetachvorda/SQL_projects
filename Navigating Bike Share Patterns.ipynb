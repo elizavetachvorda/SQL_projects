{
 "cells": [
  {
   "cell_type": "markdown",
   "id": "b5b55c20-2ec9-45b0-a970-d9584235b89a",
   "metadata": {},
   "source": [
    "# Data Analysis Portfolio Project using SQL and Tableau: Navigating Bike Share Patterns in San Francisco\n",
    "\n",
    "![Bike Sharing](https://miro.medium.com/v2/resize:fit:1124/format:webp/0*ggq3ay2UyhrlP10K.jpg)\n",
    "\n",
    "# Introduction\n",
    "\n",
    "This bike-share analysis case study aims to **practice the skills** gained in the [Google Data Analytics Professional Certificate](https://www.example.com/certificate) and to showcase my **eagerness and ability** to work in this position.\n",
    "\n",
    "## Scenario\n",
    "\n",
    "I am a **junior data analyst** working at SunCycle, a bike-share company in San Francisco. The **Director of Marketing** believes that San Francisco has great potential for a large number of people to switch to bicycles and enjoy the true beauty of the city outdoors. Therefore, our analyst team aims to understand who currently favors bicycles and how we can reach a broader audience. Using these insights, our team will design a new marketing strategy to make the service more comfortable and user-friendly for both citizens and visitors, enabling more people to benefit from it.\n",
    "\n",
    "## Ask\n",
    "\n",
    "**Objective:** Design marketing strategies to reach a broader audience.\n",
    "\n",
    "**Guiding Questions for Analysis:**\n",
    "1. What is the most popular membership type?\n",
    "2. How do annual/monthly members and casual riders utilize SunCycle bikes differently based on season, day of the week, and time of day?\n",
    "3. Are bikes consistently available for daily use? Are there stations that may require additional docking points or new stations in proximity?\n",
    "\n",
    "## Prepare\n",
    "\n",
    "The data used in this analysis originates from the San Francisco Ford GoBike Share datasets hosted on **Google BigQuery**. The dataset spans the years 2013 to 2018 and includes trip details such as trip id, start time, end time, trip duration, start station, end station, and latitude/longitude coordinates, capacity for each station. This comprehensive dataset, collected by SunCycle, provides insights into various aspects of cyclist behavior.\n",
    "\n",
    "To facilitate analysis, the data was initially organized as separate files and saved in CSV format. In the **BigQuery console**, I queried two specific files, namely 'bikeshare_trips' and 'bikeshare_station_info.' These datasets were then joined, and the consolidated information was downloaded as a CSV file and stored locally on my PC.\n",
    "\n",
    "# Process\n",
    "\n",
    "In the **BigQuery console**, the dataset turned out to be enormous, prompting the need for proper sorting and filtering to facilitate further analysis.\n",
    "\n",
    "**Table: bikeshare_trips**\n",
    "1. I selected columns deemed useful for the analysis.\n",
    "2. Changed the data type of the 'duration_sec' column, converting it to minutes and rounding numeric values to 2 decimals.\n",
    "3. Joined two columns, 'subscriber_type' and 'c_subscription_type,' which were occasionally interchanging.\n",
    "4. Since the table lacked data for the entire year, I focused on the accessible and informative period from **July 2017 to April 2018**.\n",
    "5. During examination, I identified lines with NULL values in fields such as 'start_station_name,' 'end_station_name,' 'start_station_id,' and 'end_station_id.' I cleaned the table by eliminating rows where NULLs could pose potential issues.\n",
    "6. Given that the table encompassed data from various regions, I applied filtering using the **IN** function and a subquery.\n"
   ]
  },
  {
   "cell_type": "raw",
   "id": "bd541962-2582-40b8-aef7-b1c45e0cf021",
   "metadata": {},
   "source": [
    "SELECT \n",
    "trip_id,\n",
    "ROUND(CAST(duration_sec AS float64)/60,2) AS duration_min,\n",
    "start_date,\n",
    "start_station_name,\n",
    "start_station_id,\n",
    "end_date,\n",
    "end_station_name,\n",
    "end_station_id,\n",
    "COALESCE(NULLIF(subscriber_type,'nan'),c_subscription_type) AS subscription_type,\n",
    "start_station_latitude,\n",
    "start_station_longitude,\n",
    "end_station_latitude,\n",
    "end_station_longitude\n",
    "FROM `bigquery-public-data.san_francisco_bikeshare.bikeshare_trips`\n",
    "WHERE\n",
    "FORMAT_TIMESTAMP('%Y'-%m-, start_date) >= '2017-07' AND\n",
    "start_station_latitude IS NOT NULL AND\n",
    "start_station_longitude IS NOT NULL AND\n",
    "end_station_latitude IS NOT NULL AND\n",
    "end_station_longitude IS NOT NULL AND\n",
    "start_date < end_date AND\n",
    "start_station_id IN (SELECT CAST(station_id AS INT64)\n",
    "FROM `bigquery-public-data.san_francisco_bikeshare.bikeshare_station_info`\n",
    "WHERE region_id = 3)"
   ]
  },
  {
   "cell_type": "markdown",
   "id": "818249a5-3b14-458c-afba-cf0df38c72d9",
   "metadata": {},
   "source": [
    "| Row | trip_id                | duration_min | start_date                 | start_station_name              | start_station_id | end_date                   | end_station_name            | end_station_id | subscription_type | start_station_latitude | start_station_longitude | end_station_latitude | end_station_longitude |\n",
    "|-----|------------------------|--------------|----------------------------|---------------------------------|------------------|----------------------------|-----------------------------|------------------|---------------------|------------------------|-------------------------|-----------------------|------------------------|\n",
    "| 1   | 201802070957352690     | 2.02         | 2018-02-07 09:57:35 UTC   | 11th St at Natoma St            | 77               | 2018-02-07 09:59:37 UTC   | 11th St at Bryant St        | 88               | Customer           | 37.7735069             | -122.4160402            | 37.7700298            | -122.4117258           |\n",
    "| 2   | 20171109174555614      | 3.03         | 2017-11-09 17:45:55 UTC   | 11th St at Natoma St            | 77               | 2017-11-09 17:48:57 UTC   | 11th St at Bryant St        | 88               | Subscriber         | 37.7735069             | -122.4160402            | 37.7700298            | -122.4117258           |\n",
    "| 3   | 201804201411022080     | 2.42         | 2018-04-20 14:11:02 UTC   | 11th St at Natoma St            | 77               | 2018-04-20 14:13:28 UTC   | 11th St at Bryant St        | 88               | Subscriber         | 37.7735069             | -122.4160402            | 37.7700298            | -122.4117258           |\n",
    "| 4   | 201803121421362561     | 1.85         | 2018-03-12 14:21:36 UTC   | 11th St at Natoma St            | 77               | 2018-03-12 14:23:28 UTC   | 11th St at Bryant St        | 88               | Subscriber         | 37.7735069             | -122.4160402            | 37.7700298            | -122.4117258           |\n",
    "| 5   | 20180131131328636      | 3.18         | 2018-01-31 13:13:28 UTC   | 11th St at Natoma St            | 77               | 2018-01-31 13:16:40 UTC   | 11th St at Bryant St        | 88               | Subscriber         | 37.7735069             | -122.4160402            | 37.7700298            | -122.4117258           |\n",
    "| 6   | 201803291631492530     | 1.88         | 2018-03-29 16:31:49 UTC   | 11th St at Natoma St            | 77               | 2018-03-29 16:33:43 UTC   | 11th St at Bryant St        | 88               | Subscriber         | 37.7735069             | -122.4160402            | 37.7700298            | -122.4117258           |\n",
    "| 7   | 201801091128103092     | 2.33         | 2018-01-09 11:28:10 UTC   | 11th St at Natoma St            | 77               | 2018-01-09 11:30:31 UTC   | 11th St at Bryant St        | 88               | Subscriber         | 37.7735069             | -122.4160402            | 37.7700298            | -122.4117258           |\n",
    "| 8   | 201711141207431999     | 4.47         | 2017-11-14 12:07:43 UTC   | 14th St at Mission St           | 97               | 2017-11-14 12:12:11 UTC   | 11th St at Bryant St        | 88               | Subscriber         | 37.7682646             | -122.4201102            | 37.7700298            | -122.4117258           |\n",
    "| 9   | 201802160859293623     | 5.37         | 2018-02-16 08:59:29 UTC   | 16th St Mission BART Station 2  | 223              | 2018-02-16 09:04:52 UTC   | 11th St at Bryant St        | 88               | Subscriber         | 37.7647652154977      | -122.42009103298186    | 37.7700298            | -122.4117258           |\n",
    "| 10  | 20180201092146561      | 4.23         | 2018-02-01 09:21:46 UTC   | 16th St Mission BART Station 2  | 223              | 2018-02-01 09:26:01 UTC   | 11th St at Bryant St        | 88               | Subscriber         | 37.7647652154977      | -122.42009103298186    | 37.7700298            | -122.4117258           |\n"
   ]
  },
  {
   "cell_type": "markdown",
   "id": "0982f168-f50b-41ab-894d-e337c2d928e4",
   "metadata": {},
   "source": [
    "Subsequently, I created a new dataset in my console profile and copied the refined table into it, containing a total of 695,867 rows. To ensure data integrity, I conducted a check to identify and address any duplicates or errors:"
   ]
  },
  {
   "cell_type": "raw",
   "id": "150587bd-bcc0-4fd5-a149-d832ac3ab609",
   "metadata": {},
   "source": [
    "SELECT COUNT (DISTINCT trip_id)\n",
    "FROM `bikeshare_project.bikeshare_trips`;"
   ]
  },
  {
   "cell_type": "markdown",
   "id": "9be720e4-9069-47e3-a0e3-94ecb91d8a97",
   "metadata": {},
   "source": [
    "695,867"
   ]
  },
  {
   "cell_type": "raw",
   "id": "a9851a1c-44b4-450c-a76e-a72cd8fcda91",
   "metadata": {},
   "source": [
    "SELECT DISTINCT subscription_type\n",
    "FROM `bikeshare_project.bikeshare_trips`"
   ]
  },
  {
   "cell_type": "markdown",
   "id": "c506da56-9176-4ecd-b1a5-869b65493dd5",
   "metadata": {},
   "source": [
    "| Row | subscription_type |\n",
    "|-----|---------------------|\n",
    "| 1   | Customer            |\n",
    "| 2   | Subscriber          |\n"
   ]
  },
  {
   "cell_type": "markdown",
   "id": "177f7fff-5ec7-429b-8c0e-9145d760ed25",
   "metadata": {},
   "source": [
    "The number of rows was the same.\n",
    "The data includes the following fields:\n",
    "\n",
    "- **trip_id:** Numeric ID of bike trip;\n",
    "- **duration_min:** Time of trip in minutes;\n",
    "- **start_date:** Start date of trip with date and time, in PST;\n",
    "- **start_station_name:** Start date of trip with date and time, in PST;\n",
    "- **start_station_id:** Numeric reference for start station;\n",
    "- **end_date:** End date of trip with date and time, in PST;\n",
    "- **end_station_name:** Station name for end station;\n",
    "- **end_station_id:** Numeric reference for end station;  \n",
    "- **subscription_type:** Subscriber = annual or 30-day member; Customer = 24-hour or 3-day member; \n",
    "- **start_station_latitude:** The latitude of the start station; \n",
    "- **start_station_longitude:** The longitude of the start station;  \n",
    "- **end_station_latitude:** The latitude of the start station;\n",
    "- **end_station_longitude:** The longitude of the end station.\n",
    "\n",
    "**Table bikeshare_station_info**\n",
    "\n",
    "I selected relevant columns for analysis, removed duplicates using the DISTINCT function, and filtered the table to include only stations within the 3rd region (San Francisco).\n"
   ]
  },
  {
   "cell_type": "raw",
   "id": "d9464b44-913e-4e39-b6b9-b7169d31a579",
   "metadata": {},
   "source": [
    "SELECT \n",
    "DISTINCT station_id,\n",
    "name,\n",
    "lat,\n",
    "lon,\n",
    "capacity\n",
    "FROM `bigquery-public-data.san_francisco_bikeshare.bikeshare_station_info`\n",
    "WHERE region_id = 3"
   ]
  },
  {
   "cell_type": "markdown",
   "id": "2a8a5be7-b92b-4b28-96d5-5e80365515f4",
   "metadata": {},
   "source": [
    "| Row | station_id | name                              | latitude     | longitude      | capacity |\n",
    "|-----|------------|-----------------------------------|--------------|-----------------|----------|\n",
    "| 1   | 64         | 5th St at Brannan St              | 37.7767539   | -122.3990176   | 0        |\n",
    "| 2   | 479        | Washington St at Van Ness Ave     | 37.79297985  | -122.42330164  | 3        |\n",
    "| 3   | 108        | 16th St Mission BART              | 37.7646845   | -122.4199265   | 11       |\n",
    "| 4   | 460        | Terry Francois Blvd at Warriors Way | 37.76909489 | -122.38633275  | 12       |\n",
    "| 5   | 538        | Haight St at Lyon St               | 37.770519    | -122.442326    | 12       |\n",
    "| 6   | 125        | 20th St at Bryant St               | 37.759162    | -122.4100475   | 15       |\n",
    "| 7   | 145        | 29th St at Church St               | 37.7436839   | -122.4268059   | 15       |\n",
    "| 8   | 146        | 30th St at San Jose Ave            | 37.7423139   | -122.4231805   | 15       |\n",
    "| 9   | 140        | Cesar Chavez St at Dolores St      | 37.7478584   | -122.4249863   | 15       |\n",
    "| 10  | 142        | Guerrero Park                      | 37.7457388   | -122.42214024  | 15       |\n"
   ]
  },
  {
   "cell_type": "markdown",
   "id": "8f5be85f-7452-4900-991e-417b429b1481",
   "metadata": {},
   "source": [
    "I got **253 rows**. \n",
    "The table contains the following fields:\n",
    "\n",
    "- **station_id:** Unique identifier of a station;\n",
    "- **name:** Public name of the station;\n",
    "- **latitude:** The latitude of the station; \n",
    "- **longitude:** The longitude of the station;\n",
    "- **capacity:** Number of total docking points installed at this station, both available and unavailable.\n",
    "  \n",
    "Subsequently, I stored the refined table in my dataset and downloaded it to my PC."
   ]
  },
  {
   "cell_type": "markdown",
   "id": "3b60ffac-4b34-4163-94b3-aa5319b5b450",
   "metadata": {},
   "source": [
    "## Analysis\n",
    "### What is the most popular type of membership?\n",
    "![Subscription Type](https://github.com/elizavetachvorda/navigating_bike_share_patterns/blob/main/Subscription_type.png?raw=true)"
   ]
  },
  {
   "cell_type": "markdown",
   "id": "f5c6d642-9a86-44fc-bd3f-049f4ae21afb",
   "metadata": {},
   "source": [
    "The company offers two subscription types:\n",
    "\n",
    "- For Customers: 24-hour or 3-day membership,\n",
    "- For Subscribers: annual or 30-day membership.\n",
    "\n",
    "Initially, I analyzed the proportion of total rides based on the subscription type:\n",
    "\n",
    "The percentages on the pie chart represent the total rides for each type of membership. The vast majority of total rides belong to Subscribers, which is significant given their higher profitability, as indicated by the Director of Marketing.\n",
    "\n",
    "### How do annual/monthly members and casual riders utilize SunCycle bikes differently based on season, day of the week, and time of day?\n",
    "Let’s check the patterns of behaviour during a week and average duration of rides for each group:\n"
   ]
  },
  {
   "cell_type": "markdown",
   "id": "d3d63405-c1fd-499c-bcb8-edd7d9618b8e",
   "metadata": {},
   "source": [
    "![Weekly Rides and Avearge duration](https://github.com/elizavetachvorda/navigating_bike_share_patterns/blob/main/weekday_rides_avg_duration.png?raw=true)"
   ]
  },
  {
   "cell_type": "markdown",
   "id": "918c8abf-36ba-49e9-bea5-b97b5970c5ad",
   "metadata": {},
   "source": [
    "On the **bar chart**, we observe distinct riding patterns: **Subscribers** consistently use the service on **workdays**, with a significant drop on weekends, while **Customers** exhibit a preference for **weekend rides**, although the variation throughout weekdays is minimal.\n",
    "\n",
    "Short-term subscription users tend to opt for **longer rides**, particularly in the range of **34 to 45 minutes**, with the longest rides occurring on **Saturdays and Sundays**. In contrast, **Subscribers** have an average ride duration about **one-third shorter**, typically lasting **11 to 12 minutes**.\n",
    "\n",
    "Analyzing the rides per hour, we identify two peaks for **Subscribers** at **8 am and 5 pm**, likely corresponding to **commuting hours**. For **Customers**, the chart displays a gradual increase in rides from **8 am to 5 pm** without pronounced peaks.\n"
   ]
  },
  {
   "cell_type": "markdown",
   "id": "263edea4-2794-4fdd-a15b-4a9e51d4ff34",
   "metadata": {},
   "source": [
    "![Start Hour Rides](https://github.com/elizavetachvorda/navigating_bike_share_patterns/blob/main/satrt_hour_rides.png?raw=true)"
   ]
  },
  {
   "cell_type": "markdown",
   "id": "71ad1975-48ba-4339-8bae-21adb3cca10a",
   "metadata": {},
   "source": [
    "Based on the observed patterns, it can be inferred that **Subscribers** utilize bikes more frequently on a daily basis, suggesting a primary use for **commuting to work**. **Customers**, on the other hand, engage in **longer trips** and actively use bikes throughout the entire week, with a slightly higher usage on weekends, likely indicating **leisure activities**.\n",
    "\n",
    "This leads to the conclusion that **Subscribers** are predominantly **residents or long-term visitors** who rely on the service for **daily commuting**. In contrast, **Customers** are likely **tourists** who prefer to use the service during **daylight hours**, regardless of the day of the week.\n",
    "\n",
    "While analyzing **monthly rides**, I was limited to **10 months** (missing May and June), but we can still extract valuable insights from the following **graph**:\n"
   ]
  },
  {
   "cell_type": "markdown",
   "id": "0a6b4a76-1631-41d5-92d6-60f7e5ff9f33",
   "metadata": {},
   "source": [
    "![Month Rides](https://github.com/elizavetachvorda/navigating_bike_share_patterns/blob/main/month_rides.png?raw=true)"
   ]
  },
  {
   "cell_type": "markdown",
   "id": "376cd1a1-019e-4964-a9eb-22681713b620",
   "metadata": {},
   "source": [
    "The popularity of bikes among **Subscribers** notably increases from **August to October**, followed by a decline until December. However, with each subsequent month, popularity rises progressively. Interestingly, bikes are used the least by **Subscribers in August**, potentially indicating a correlation with the vacation season during this period.\n",
    "\n",
    "For **Customers**, bike popularity is evident from **August to October and April**. It can be inferred that these months, being some of the warmest in the year, attract higher tourism in the city.\n",
    "\n",
    "### Are bikes consistently available for daily use? Are there stations that may require additional docking points or new station in proximity?\n",
    "\n",
    "As the next step, I compared the distribution of **bike stations based on the total rides** (where each station serves as a starting point) and their respective **capacities**:\n"
   ]
  },
  {
   "cell_type": "markdown",
   "id": "93b0c108-bf65-46fb-8f87-3e816fc07acb",
   "metadata": {},
   "source": [
    "![Distribution of stations](https://github.com/elizavetachvorda/navigating_bike_share_patterns/blob/main/distribution_of_stations.png?raw=true)"
   ]
  },
  {
   "cell_type": "markdown",
   "id": "a4871d4c-ece9-464e-9306-c6da2dcde5e7",
   "metadata": {},
   "source": [
    "At first glance, both graphs correlate well. It's evident that a significant portion of the busiest stations have adequate capacity, although not all of them. Let's explore the practical implications:"
   ]
  },
  {
   "cell_type": "markdown",
   "id": "d2b9454d-cf84-438f-beac-835438b90b95",
   "metadata": {},
   "source": [
    "![Top 15 stations](https://github.com/elizavetachvorda/navigating_bike_share_patterns/blob/main/top_15_stations.png?raw=true)"
   ]
  },
  {
   "cell_type": "markdown",
   "id": "5e41067d-983c-4490-8fa3-1894aaf7d3d6",
   "metadata": {},
   "source": [
    "It appears that there are several busiest stations where the capacity doesn't align with their popularity. This mismatch could lead to stations running out of bikes due to a shortage of docking points, ultimately impacting the comfort and convenience of the service.\n",
    "\n",
    "## Share\n",
    "All charts and dashboards can be viewed interactively in [Tableau](https://public.tableau.com/views/NavigatingBikeSharePatterns/Dashboard3?:language=en-GB&:display_count=n&:origin=viz_share_link).\n",
    "\n",
    "## Act\n",
    "While the **Subscriber membership** is more profitable, a successful marketing campaign could elevate the popularity of the **Customer membership**, particularly among tourists and visitors to the city. In summary, to reach a broader audience for each type of members, I made the following recommendations:\n",
    "\n",
    "**Strategic Advertising:**\n",
    "- Place advertisements in airports, train stations, buses to the city center, and popular tourist attractions.\n",
    "- Form partnerships with local businesses, such as hotels/hostels or events, for cross-promotion and discounts for bikeshare users.\n",
    "\n",
    "**Digital Presence:**\n",
    "- Advertise in map applications and other navigation tools.\n",
    "- Leverage social media platforms to create engaging content and share user stories.\n",
    "- Run social media campaigns or challenges to encourage user participation.\n",
    "\n",
    "**Seasonal and Location-Based Marketing:**\n",
    "- Time the marketing campaign to coincide with warmer months and focus on the most used stations by Customers.\n",
    "- Identify popular stations among Customers using the provided dashboard.\n",
    "\n",
    "**Incentive Programs:**\n",
    "- Introduce a points-based plan where users accumulate points based on the distance traveled, offering discounts on the next subscription or other rewards.\n",
    "- Consider offering 30 minutes free for the first journey to attract new clients.\n",
    "\n",
    "**Infrastructure Improvement:**\n",
    "- Enhance service comfort by installing more docking points at highly used stations or constructing new stations in proximity.\n"
   ]
  }
 ],
 "metadata": {
  "kernelspec": {
   "display_name": "Python 3 (ipykernel)",
   "language": "python",
   "name": "python3"
  },
  "language_info": {
   "codemirror_mode": {
    "name": "ipython",
    "version": 3
   },
   "file_extension": ".py",
   "mimetype": "text/x-python",
   "name": "python",
   "nbconvert_exporter": "python",
   "pygments_lexer": "ipython3",
   "version": "3.11.5"
  }
 },
 "nbformat": 4,
 "nbformat_minor": 5
}
